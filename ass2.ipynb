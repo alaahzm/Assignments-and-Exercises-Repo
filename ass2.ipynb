{
 "cells": [
  {
   "cell_type": "code",
   "execution_count": 5,
   "id": "e7c9777a-c167-41bb-ba22-7db0aac69c21",
   "metadata": {},
   "outputs": [
    {
     "name": "stdin",
     "output_type": "stream",
     "text": [
      "enter a value 5\n",
      "enter the second value 8\n"
     ]
    },
    {
     "name": "stdout",
     "output_type": "stream",
     "text": [
      "13\n"
     ]
    }
   ],
   "source": [
    "import mymodule\n",
    "x=int(input(\"enter a value\"))\n",
    "y=int(input(\"enter the second value\"))\n",
    "\n",
    "addition=mymodule.add(x,y)\n",
    "print(addition)\n"
   ]
  },
  {
   "cell_type": "code",
   "execution_count": null,
   "id": "e98fe375-395b-436e-8c15-acbea6c95f4b",
   "metadata": {},
   "outputs": [],
   "source": []
  }
 ],
 "metadata": {
  "kernelspec": {
   "display_name": "Python 3 (ipykernel)",
   "language": "python",
   "name": "python3"
  },
  "language_info": {
   "codemirror_mode": {
    "name": "ipython",
    "version": 3
   },
   "file_extension": ".py",
   "mimetype": "text/x-python",
   "name": "python",
   "nbconvert_exporter": "python",
   "pygments_lexer": "ipython3",
   "version": "3.12.7"
  }
 },
 "nbformat": 4,
 "nbformat_minor": 5
}
